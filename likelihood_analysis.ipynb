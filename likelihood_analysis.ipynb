{
 "cells": [
  {
   "cell_type": "code",
   "execution_count": 1,
   "metadata": {
    "collapsed": true
   },
   "outputs": [],
   "source": [
    "%matplotlib inline\n",
    "from __future__ import division\n",
    "import pandas as pd\n",
    "import numpy as np\n",
    "import matplotlib.pyplot as plt\n",
    "import matplotlib as mpl\n",
    "import numpy.random as npr\n",
    "import re\n",
    "from numba import jit\n",
    "import scipy.stats\n",
    "import scipy.special"
   ]
  },
  {
   "cell_type": "code",
   "execution_count": 5,
   "metadata": {
    "collapsed": false
   },
   "outputs": [
    {
     "name": "stdout",
     "output_type": "stream",
     "text": [
      "\n"
     ]
    }
   ],
   "source": [
    "def hpd(trace, mass_frac):\n",
    "    d = np.sort(np.copy(trace))\n",
    "    n = len(trace)\n",
    "    n_samples = np.floor(mass_frac * n).astype(int)\n",
    "    int_width = d[n_samples:] - d[:n-n_samples]\n",
    "    min_int = np.argmin(int_width)\n",
    "    return np.array([d[min_int], d[min_int+n_samples]])"
   ]
  },
  {
   "cell_type": "markdown",
   "metadata": {
    "heading_collapsed": true
   },
   "source": [
    "# checking likelihood"
   ]
  },
  {
   "cell_type": "code",
   "execution_count": 318,
   "metadata": {
    "collapsed": true,
    "hidden": true
   },
   "outputs": [],
   "source": [
    "import lm2\n",
    "lm2 = reload(lm2)"
   ]
  },
  {
   "cell_type": "code",
   "execution_count": 306,
   "metadata": {
    "collapsed": false,
    "hidden": true
   },
   "outputs": [
    {
     "data": {
      "text/plain": [
       "0.5290803673489011"
      ]
     },
     "execution_count": 306,
     "metadata": {},
     "output_type": "execute_result"
    }
   ],
   "source": [
    "np.log(lm2.convolve_binom_and_beta(0.4, 10, 0.4))"
   ]
  },
  {
   "cell_type": "code",
   "execution_count": 307,
   "metadata": {
    "collapsed": false,
    "hidden": true
   },
   "outputs": [
    {
     "data": {
      "text/plain": [
       "0.5290803673489011"
      ]
     },
     "execution_count": 307,
     "metadata": {},
     "output_type": "execute_result"
    }
   ],
   "source": [
    "lm2.log_convolve_binom_and_beta(0.4, 10, 0.4)"
   ]
  },
  {
   "cell_type": "code",
   "execution_count": 308,
   "metadata": {
    "collapsed": false,
    "hidden": true
   },
   "outputs": [
    {
     "data": {
      "text/plain": [
       "0.5290803673489014"
      ]
     },
     "execution_count": 308,
     "metadata": {},
     "output_type": "execute_result"
    }
   ],
   "source": [
    "lm2.log_convolve_binom_and_beta_mp(0.4, 10, 0.4)"
   ]
  },
  {
   "cell_type": "code",
   "execution_count": 309,
   "metadata": {
    "collapsed": false,
    "hidden": true
   },
   "outputs": [
    {
     "data": {
      "text/plain": [
       "0.0"
      ]
     },
     "execution_count": 309,
     "metadata": {},
     "output_type": "execute_result"
    }
   ],
   "source": [
    "lm2.log_convolve_binom_and_beta(0.0, 10, 0.0)"
   ]
  },
  {
   "cell_type": "code",
   "execution_count": 317,
   "metadata": {
    "collapsed": false,
    "hidden": true
   },
   "outputs": [
    {
     "name": "stderr",
     "output_type": "stream",
     "text": [
      "/home/peter/opt/anaconda2/lib/python2.7/site-packages/ipykernel/__main__.py:1: RuntimeWarning: divide by zero encountered in log\n",
      "  if __name__ == '__main__':\n"
     ]
    },
    {
     "data": {
      "text/plain": [
       "0.5290803673489023"
      ]
     },
     "execution_count": 317,
     "metadata": {},
     "output_type": "execute_result"
    }
   ],
   "source": [
    "np.log(lm2.convolve_binom_and_beta_sum(0.4, 10, 0.4))"
   ]
  },
  {
   "cell_type": "code",
   "execution_count": 311,
   "metadata": {
    "collapsed": false,
    "hidden": true
   },
   "outputs": [
    {
     "data": {
      "text/plain": [
       "-38.95058494270367"
      ]
     },
     "execution_count": 311,
     "metadata": {},
     "output_type": "execute_result"
    }
   ],
   "source": [
    "lm2.log_likelihood_model_B(sim_params, *model_args)"
   ]
  },
  {
   "cell_type": "code",
   "execution_count": 314,
   "metadata": {
    "collapsed": false,
    "hidden": true
   },
   "outputs": [
    {
     "data": {
      "text/plain": [
       "-38.95058494270367"
      ]
     },
     "execution_count": 314,
     "metadata": {},
     "output_type": "execute_result"
    }
   ],
   "source": [
    "lm2 = reload(lm2)\n",
    "lm2.log_likelihood_model_B(sim_params, *model_args)"
   ]
  },
  {
   "cell_type": "code",
   "execution_count": 319,
   "metadata": {
    "collapsed": false,
    "hidden": true
   },
   "outputs": [
    {
     "data": {
      "text/plain": [
       "-38.95058494270367"
      ]
     },
     "execution_count": 319,
     "metadata": {},
     "output_type": "execute_result"
    }
   ],
   "source": [
    "lm2 = reload(lm2)\n",
    "lm2.log_likelihood_model_B_alt(sim_params, *model_args)"
   ]
  },
  {
   "cell_type": "code",
   "execution_count": 291,
   "metadata": {
    "collapsed": false,
    "hidden": true
   },
   "outputs": [
    {
     "name": "stderr",
     "output_type": "stream",
     "text": [
      "/home/peter/opt/anaconda2/lib/python2.7/site-packages/ipykernel/__main__.py:11: RuntimeWarning: divide by zero encountered in double_scalars\n"
     ]
    },
    {
     "data": {
      "text/plain": [
       "[<matplotlib.lines.Line2D at 0x7f1fecff7450>]"
      ]
     },
     "execution_count": 291,
     "metadata": {},
     "output_type": "execute_result"
    },
    {
     "data": {
      "image/png": "[encoded data removed]",
      "text/plain": [
       "<matplotlib.figure.Figure at 0x7f1fecff79d0>"
      ]
     },
     "metadata": {},
     "output_type": "display_data"
    }
   ],
   "source": [
    "samp = 100000\n",
    "n = 34\n",
    "p = 0.2\n",
    "b = npr.binomial(n, p, size=samp)\n",
    "filt = (b > 0)&(b < n)\n",
    "num_nonfixed = filt.sum()\n",
    "x = np.zeros(samp)\n",
    "x[filt] = npr.beta(b[filt], (n-b)[filt], size=num_nonfixed)\n",
    "x[~filt] = b[~filt]/n\n",
    "xplt = np.linspace(0, 1, 50)\n",
    "y = np.array([lm2.convolve_binom_and_beta(xp, n, p) for xp in xplt])\n",
    "plt.hist(x, bins=np.linspace(0, 1, 50), normed=True);\n",
    "plt.gca().plot(xplt, y)"
   ]
  },
  {
   "cell_type": "code",
   "execution_count": 292,
   "metadata": {
    "collapsed": false,
    "hidden": true
   },
   "outputs": [
    {
     "name": "stderr",
     "output_type": "stream",
     "text": [
      "lm2.py:61: RuntimeWarning: divide by zero encountered in log\n",
      "  #logprob = np.log(-n*(n-1)*(p-1)*p*((p-1)*(x-1))**(n-2)*scipy.special.hyp2f1(1-n, 2-n, 2, x*p/((x-1)*(p-1))))\n"
     ]
    },
    {
     "data": {
      "text/plain": [
       "[<matplotlib.lines.Line2D at 0x7f1fef134c90>]"
      ]
     },
     "execution_count": 292,
     "metadata": {},
     "output_type": "execute_result"
    },
    {
     "data": {
      "image/png": "[encoded data removed]",
      "text/plain": [
       "<matplotlib.figure.Figure at 0x7f1fef134250>"
      ]
     },
     "metadata": {},
     "output_type": "display_data"
    }
   ],
   "source": [
    "samp = 100000\n",
    "n = 200\n",
    "p = 0.2\n",
    "b = npr.binomial(n, p, size=samp)\n",
    "filt = (b > 0)&(b < n)\n",
    "num_nonfixed = filt.sum()\n",
    "x = np.zeros(samp)\n",
    "x[filt] = npr.beta(b[filt], (n-b)[filt], size=num_nonfixed)\n",
    "x[~filt] = b[~filt]/n\n",
    "xplt = np.linspace(0, 1, 50)\n",
    "y = np.array([np.exp(lm2.log_convolve_binom_and_beta(xp, n, p)) for xp in xplt])\n",
    "plt.hist(x, bins=np.linspace(0, 1, 50), normed=True);\n",
    "plt.gca().plot(xplt, y, color='orange')"
   ]
  },
  {
   "cell_type": "markdown",
   "metadata": {},
   "source": [
    "# final results (discrete bottlenecks, uniform priors)\n",
    "\n",
    "Results updated after Alison removed root frequencies from the data."
   ]
  },
  {
   "cell_type": "code",
   "execution_count": 25,
   "metadata": {
    "collapsed": true
   },
   "outputs": [],
   "source": [
    "res_unif = pd.read_csv('results_uniform.txt', sep='\\t', header=None, names=['ll', 'f', 'n1', 'n2'], skiprows=16, comment='#')\n",
    "for col in ['n1', 'n2']:\n",
    "    res_unif[col] = res_unif[col].astype(int)\n",
    "frac_burnin = 0.2\n",
    "burnin_idx = int(res_unif.shape[0]*frac_burnin+0.5)\n",
    "res_unif = res_unif.iloc[burnin_idx:,:]\n",
    "res_unif['frac_before'] = res_unif.eval('(1/n1)/(1/n1 + 1/n2)')"
   ]
  },
  {
   "cell_type": "code",
   "execution_count": 26,
   "metadata": {
    "collapsed": false
   },
   "outputs": [
    {
     "name": "stdout",
     "output_type": "stream",
     "text": [
      "f 0.475678109402 [0.03527099 0.86425183]\n",
      "n1 27.0 [  9 123]\n",
      "n2 11.0 [ 9 14]\n",
      "frac_before 0.292682926829 [0.04954955 0.48275862]\n"
     ]
    }
   ],
   "source": [
    "for col in ['f', 'n1', 'n2', 'frac_before']:\n",
    "    print col, res_unif[col].median(), hpd(res_unif[col], 0.95)"
   ]
  },
  {
   "cell_type": "code",
   "execution_count": 24,
   "metadata": {
    "collapsed": false
   },
   "outputs": [
    {
     "data": {
      "image/png": "[encoded data removed]",
      "text/plain": [
       "<matplotlib.figure.Figure at 0x7f80b44af8d0>"
      ]
     },
     "metadata": {},
     "output_type": "display_data"
    }
   ],
   "source": [
    "with mpl.rc_context({'font.size': 13}):\n",
    "    f, axes = plt.subplots(1, 4, figsize=(14,4))\n",
    "\n",
    "    res_unif['n1'] = res_unif['n1'].astype(int)\n",
    "    res_unif['n2'] = res_unif['n2'].astype(int)\n",
    "\n",
    "    res_unif['f'].plot.hist(bins=np.linspace(0,1,50), ax = axes[0], normed=True)\n",
    "    res_unif['n1'].plot.hist(bins=np.arange(0, res_unif['n1'].max()+1), ax = axes[1], normed=True)\n",
    "    res_unif['n2'].plot.hist(bins=np.arange(0, res_unif['n2'].max()+1), ax = axes[2], normed=True)\n",
    "    res_unif['frac_before'].plot.hist(bins=20, ax = axes[3], normed=True)\n",
    "    \n",
    "    axes[0].set_xlabel('f')\n",
    "    axes[1].set_xlabel('N1')\n",
    "    axes[2].set_xlabel('N2')\n",
    "    axes[3].set_xlabel('fraction of genetic drift\\noccurring before hair diverge')\n",
    "    axes[3].set_xlim((0,1))\n",
    "    for ax in axes:\n",
    "        ax.set_ylabel('posterior density')\n",
    "with mpl.rc_context({'font.size': 16}):\n",
    "    axes[0].text(-0.1, 1.05, 'A', transform=axes[0].transAxes)\n",
    "    axes[1].text(-0.1, 1.05, 'B', transform=axes[1].transAxes)\n",
    "    axes[2].text(-0.1, 1.05, 'C', transform=axes[2].transAxes)\n",
    "    axes[3].text(-0.1, 1.05, 'D', transform=axes[3].transAxes)\n",
    "f.tight_layout()\n",
    "plt.savefig('figures/posterior_samples_combined.png', dpi=600, bbox_inches='tight')\n",
    "plt.savefig('figures/posterior_samples_combined.pdf', dpi=600, bbox_inches='tight')"
   ]
  }
 ],
 "metadata": {
  "hide_input": false,
  "kernelspec": {
   "display_name": "Python [anaconda2]",
   "language": "python",
   "name": "Python [anaconda2]"
  },
  "language_info": {
   "codemirror_mode": {
    "name": "ipython",
    "version": 2
   },
   "file_extension": ".py",
   "mimetype": "text/x-python",
   "name": "python",
   "nbconvert_exporter": "python",
   "pygments_lexer": "ipython2",
   "version": "2.7.11"
  }
 },
 "nbformat": 4,
 "nbformat_minor": 0
}
